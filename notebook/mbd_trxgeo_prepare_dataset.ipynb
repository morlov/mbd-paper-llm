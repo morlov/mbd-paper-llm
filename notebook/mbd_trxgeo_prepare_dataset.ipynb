{
 "cells": [
  {
   "cell_type": "code",
   "execution_count": 1,
   "metadata": {},
   "outputs": [],
   "source": [
    "import sys\n",
    "sys.path.insert(0, \"/home/jovyan/.local/share/virtualenvs/ptls-experiments-RyOSTDQK/lib/python3.8/site-packages\")"
   ]
  },
  {
   "cell_type": "code",
   "execution_count": 2,
   "metadata": {},
   "outputs": [
    {
     "name": "stderr",
     "output_type": "stream",
     "text": [
      "\n",
      "libgomp: Invalid value for environment variable OMP_NUM_THREADS\n"
     ]
    }
   ],
   "source": [
    "from huggingface_hub import notebook_login\n",
    "import gc\n",
    "from glob import glob\n",
    "import torch\n",
    "from datasets import load_dataset\n",
    "from transformers import logging\n",
    "from tqdm import tqdm\n",
    "import pandas as pd\n",
    "import numpy as np\n",
    "\n",
    "logging.set_verbosity_info()"
   ]
  },
  {
   "cell_type": "code",
   "execution_count": 3,
   "metadata": {},
   "outputs": [],
   "source": [
    "%load_ext autoreload\n",
    "%autoreload 2"
   ]
  },
  {
   "cell_type": "markdown",
   "metadata": {},
   "source": [
    "# Prepare data"
   ]
  },
  {
   "cell_type": "code",
   "execution_count": 4,
   "metadata": {},
   "outputs": [],
   "source": [
    "# from huggingface_hub import hf_hub_download\n",
    "\n",
    "# dataset = hf_hub_download(repo_id=\"ai-lab/MBD\", filename=\"ptls.tar.gz\", repo_type=\"dataset\", local_dir='./data/mbd')\n",
    "# dataset = hf_hub_download(repo_id=\"ai-lab/MBD\", filename=\"targets.tar.gz\", repo_type=\"dataset\", local_dir='./data/mbd')\n",
    "# !tar -xvzf ./data/mbd/ptls.tar.gz ./data/mbd\n",
    "# !tar -xvzf ./data/mbd/targets.tar.gz ./data/mbd"
   ]
  },
  {
   "cell_type": "code",
   "execution_count": 5,
   "metadata": {},
   "outputs": [
    {
     "name": "stdout",
     "output_type": "stream",
     "text": [
      "CPU times: user 26.9 s, sys: 8.45 s, total: 35.4 s\n",
      "Wall time: 8.16 s\n"
     ]
    },
    {
     "data": {
      "text/plain": [
       "984490"
      ]
     },
     "execution_count": 5,
     "metadata": {},
     "output_type": "execute_result"
    }
   ],
   "source": [
    "%%time\n",
    "\n",
    "columns = [\"client_id\", 'event_time', 'event_type', 'amount', 'src_type32']\n",
    "files = glob('./data/mbd/ptls/trx/fold=*/*', recursive=True)\n",
    "data = pd.read_parquet(files, columns=columns)\n",
    "len(data)"
   ]
  },
  {
   "cell_type": "markdown",
   "metadata": {},
   "source": [
    "# Transactions and geo to text"
   ]
  },
  {
   "cell_type": "code",
   "execution_count": 6,
   "metadata": {},
   "outputs": [],
   "source": [
    "from datetime import datetime\n",
    "\n",
    "TRX_COLUMNS = [\"client_id\", 'event_time', 'event_type', 'amount', 'src_type32']\n",
    "MAX_LEN = 256\n",
    "\n",
    "def trx_to_text(trx, columns=TRX_COLUMNS, max_len=MAX_LEN):\n",
    "    \n",
    "    client_id = trx['client_id']\n",
    "    del trx['client_id']\n",
    "    \n",
    "    for k in columns:\n",
    "        if k == \"event_time\":\n",
    "            trx[k] = list(map(lambda x: datetime.fromtimestamp(x).strftime('%Y-%m-%d'), trx[k]))\n",
    "        elif k == \"amount\":\n",
    "            trx[k] = list(map(lambda x: f\"{x:.2f}\", np.log10(trx[k])))\n",
    "                \n",
    "    df = pd.DataFrame(trx).tail(max_len)\n",
    "    \n",
    "    return client_id,  \"<TRX>\\n\" + df.to_string(index=False) + \"\\n</TRX>\""
   ]
  },
  {
   "cell_type": "code",
   "execution_count": 7,
   "metadata": {},
   "outputs": [],
   "source": [
    "from datetime import datetime\n",
    "\n",
    "GEO_COLUMNS = [\"client_id\", 'event_time', 'geohash_4', 'geohash_5', 'geohash_6']\n",
    "MAX_LEN = 64\n",
    "\n",
    "def geo_to_text(geo, columns=GEO_COLUMNS, max_len=MAX_LEN):\n",
    "    \n",
    "    client_id = geo['client_id']\n",
    "    del geo['client_id']\n",
    "    \n",
    "    for k in columns:\n",
    "        if k == \"event_time\":\n",
    "            geo[k] = list(map(lambda x: datetime.fromtimestamp(x).strftime('%Y-%m-%d'), geo[k]))\n",
    "                \n",
    "    df = pd.DataFrame(geo)\n",
    "    df = df.loc[(df.shift() != df).any(axis=1)].tail(MAX_LEN)\n",
    "    \n",
    "    return client_id, \"<GEO>\\n\" + df.to_string(index=False) + \"\\n</GEO>\""
   ]
  },
  {
   "cell_type": "code",
   "execution_count": 8,
   "metadata": {},
   "outputs": [],
   "source": [
    "from tqdm import tqdm\n",
    "\n",
    "def get_data_and_join(trx_path, geo_path):\n",
    "    data_trx = pd.read_parquet(trx_path, columns=TRX_COLUMNS)\n",
    "    df_trx = pd.DataFrame(map(trx_to_text, tqdm(data_trx.to_dict(\"records\"))), columns=[\"client_id\", \"trx\"])\n",
    "    data_geo = pd.read_parquet(geo_path, columns=GEO_COLUMNS)\n",
    "    df_geo = pd.DataFrame(map(geo_to_text, tqdm(data_geo.to_dict(\"records\"))), columns=[\"client_id\", \"geo\"])\n",
    "    df = df_trx.merge(df_geo, on=\"client_id\", how=\"left\").fillna('')\n",
    "    return df.to_dict('records')"
   ]
  },
  {
   "cell_type": "markdown",
   "metadata": {},
   "source": [
    "# Write to json"
   ]
  },
  {
   "cell_type": "code",
   "execution_count": 9,
   "metadata": {},
   "outputs": [
    {
     "name": "stderr",
     "output_type": "stream",
     "text": [
      "100%|██████████| 196938/196938 [11:23<00:00, 288.24it/s]\n",
      "100%|██████████| 145335/145335 [10:32<00:00, 229.82it/s]\n",
      "100%|██████████| 196938/196938 [00:09<00:00, 21707.08it/s]\n",
      "100%|██████████| 196863/196863 [11:37<00:00, 282.10it/s]\n",
      "100%|██████████| 145411/145411 [10:41<00:00, 226.72it/s]\n",
      "100%|██████████| 196863/196863 [00:12<00:00, 15826.41it/s]\n",
      "100%|██████████| 196942/196942 [11:42<00:00, 280.46it/s]\n",
      "100%|██████████| 145072/145072 [10:38<00:00, 227.24it/s]\n",
      "100%|██████████| 196942/196942 [00:13<00:00, 14376.66it/s]\n",
      "100%|██████████| 196902/196902 [11:36<00:00, 282.87it/s]\n",
      "100%|██████████| 145530/145530 [10:46<00:00, 225.07it/s]\n",
      "100%|██████████| 196902/196902 [00:11<00:00, 16470.44it/s]\n",
      "100%|██████████| 196845/196845 [11:43<00:00, 279.87it/s]\n",
      "100%|██████████| 145330/145330 [10:50<00:00, 223.51it/s]\n",
      "100%|██████████| 196845/196845 [00:09<00:00, 20739.80it/s]\n"
     ]
    },
    {
     "data": {
      "text/plain": [
       "984490"
      ]
     },
     "execution_count": 9,
     "metadata": {},
     "output_type": "execute_result"
    }
   ],
   "source": [
    "import json\n",
    "\n",
    "client_ids = []\n",
    "\n",
    "for fold in range(5):\n",
    "    \n",
    "    data = get_data_and_join(f'./data/mbd/ptls/trx/fold={fold}/', f'./data/mbd/ptls/geo/fold={fold}/')\n",
    "    \n",
    "    with open(f'./data/mbd/mm/json/mbd_fold_{fold}.jsonl', 'w') as outfile:\n",
    "        for d in tqdm(data):\n",
    "            client_id, text = d['client_id'], d['trx'] + '\\n' + d['geo']\n",
    "            entry = {'client_id': client_id, 'text': text}\n",
    "            json.dump(entry, outfile)\n",
    "            outfile.write('\\n')\n",
    "            client_ids.append(client_id)\n",
    "            \n",
    "len(set(client_ids))"
   ]
  },
  {
   "cell_type": "markdown",
   "metadata": {},
   "source": [
    "# Check number of tokens"
   ]
  },
  {
   "cell_type": "code",
   "execution_count": null,
   "metadata": {},
   "outputs": [],
   "source": [
    "from glob import glob\n",
    "\n",
    "\n",
    "dfs = []\n",
    "\n",
    "for f_name in tqdm(glob('./data/mbd/mm/json/*.jsonl')):\n",
    "    dfs.append(pd.read_json(f_name, lines = True)) #.to_dict(\"records\")\n",
    "\n",
    "data = pd.concat(dfs).reset_index(drop=True)"
   ]
  },
  {
   "cell_type": "code",
   "execution_count": null,
   "metadata": {},
   "outputs": [],
   "source": [
    "from transformers import LlamaTokenizer\n",
    "name = 'small_models_run/gigar2-2b-450k-hf'\n",
    "tokenizer = LlamaTokenizer.from_pretrained(name)"
   ]
  },
  {
   "cell_type": "code",
   "execution_count": null,
   "metadata": {},
   "outputs": [],
   "source": [
    "lens = []\n",
    "\n",
    "for d in tqdm(data.to_dict('records')):\n",
    "    client_id, text = d['client_id'], d['text']\n",
    "    tokenized = tokenizer(text, padding=\"max_length\", truncation=True)\n",
    "    lens.append([client_id, len(tokenized['input_ids'])])"
   ]
  },
  {
   "cell_type": "code",
   "execution_count": 91,
   "metadata": {},
   "outputs": [],
   "source": [
    "df_lens = pd.DataFrame(lens, columns=['client_ids', 'tokens'])"
   ]
  },
  {
   "cell_type": "code",
   "execution_count": 92,
   "metadata": {},
   "outputs": [
    {
     "data": {
      "text/html": [
       "<div>\n",
       "<style scoped>\n",
       "    .dataframe tbody tr th:only-of-type {\n",
       "        vertical-align: middle;\n",
       "    }\n",
       "\n",
       "    .dataframe tbody tr th {\n",
       "        vertical-align: top;\n",
       "    }\n",
       "\n",
       "    .dataframe thead th {\n",
       "        text-align: right;\n",
       "    }\n",
       "</style>\n",
       "<table border=\"1\" class=\"dataframe\">\n",
       "  <thead>\n",
       "    <tr style=\"text-align: right;\">\n",
       "      <th></th>\n",
       "      <th>client_ids</th>\n",
       "      <th>tokens</th>\n",
       "    </tr>\n",
       "  </thead>\n",
       "  <tbody>\n",
       "    <tr>\n",
       "      <th>0</th>\n",
       "      <td>002a3401b9b2622757780320d4c86b8741e46fe660afd8...</td>\n",
       "      <td>6787</td>\n",
       "    </tr>\n",
       "    <tr>\n",
       "      <th>1</th>\n",
       "      <td>005caf3aba307b29bdcfe518530e11efce9e0b5ac652de...</td>\n",
       "      <td>5315</td>\n",
       "    </tr>\n",
       "    <tr>\n",
       "      <th>2</th>\n",
       "      <td>009e4ea6ca4b49b94ec88b609efd4bdc3fa5bea24a6572...</td>\n",
       "      <td>6190</td>\n",
       "    </tr>\n",
       "    <tr>\n",
       "      <th>3</th>\n",
       "      <td>013aeac03b6effd7d0a746ae7a11709c27aaabe9ff90a3...</td>\n",
       "      <td>5151</td>\n",
       "    </tr>\n",
       "    <tr>\n",
       "      <th>4</th>\n",
       "      <td>015535f4fa6281c069e80b23ab5f1b9c2b9e3a77ddcf3f...</td>\n",
       "      <td>6951</td>\n",
       "    </tr>\n",
       "  </tbody>\n",
       "</table>\n",
       "</div>"
      ],
      "text/plain": [
       "                                          client_ids  tokens\n",
       "0  002a3401b9b2622757780320d4c86b8741e46fe660afd8...    6787\n",
       "1  005caf3aba307b29bdcfe518530e11efce9e0b5ac652de...    5315\n",
       "2  009e4ea6ca4b49b94ec88b609efd4bdc3fa5bea24a6572...    6190\n",
       "3  013aeac03b6effd7d0a746ae7a11709c27aaabe9ff90a3...    5151\n",
       "4  015535f4fa6281c069e80b23ab5f1b9c2b9e3a77ddcf3f...    6951"
      ]
     },
     "execution_count": 92,
     "metadata": {},
     "output_type": "execute_result"
    }
   ],
   "source": [
    "df_lens.head()"
   ]
  },
  {
   "cell_type": "code",
   "execution_count": 93,
   "metadata": {},
   "outputs": [
    {
     "data": {
      "text/plain": [
       "<Axes: >"
      ]
     },
     "execution_count": 93,
     "metadata": {},
     "output_type": "execute_result"
    },
    {
     "data": {
      "image/png": "[encoded data removed]",
      "text/plain": [
       "<Figure size 640x480 with 1 Axes>"
      ]
     },
     "metadata": {},
     "output_type": "display_data"
    }
   ],
   "source": [
    "df_lens['tokens'].hist(bins=100)"
   ]
  },
  {
   "cell_type": "code",
   "execution_count": 94,
   "metadata": {},
   "outputs": [
    {
     "data": {
      "text/plain": [
       "count    5000.000000\n",
       "mean     4201.559800\n",
       "std      2322.150605\n",
       "min        46.000000\n",
       "25%      2006.750000\n",
       "50%      4730.500000\n",
       "75%      6679.000000\n",
       "max      7431.000000\n",
       "Name: tokens, dtype: float64"
      ]
     },
     "execution_count": 94,
     "metadata": {},
     "output_type": "execute_result"
    }
   ],
   "source": [
    "df_lens['tokens'].describe()"
   ]
  },
  {
   "cell_type": "markdown",
   "metadata": {},
   "source": [
    "# Balanced dataset"
   ]
  },
  {
   "cell_type": "code",
   "execution_count": 10,
   "metadata": {},
   "outputs": [],
   "source": [
    "import pandas as pd\n",
    "balanced_ids = pd.read_parquet('/home/jovyan/maorlov/ggcht/data/mbd/balanced/mbd_targets_balanced.parquet', columns=['client_id'])"
   ]
  },
  {
   "cell_type": "code",
   "execution_count": 11,
   "metadata": {},
   "outputs": [
    {
     "data": {
      "text/plain": [
       "(70532, 1)"
      ]
     },
     "execution_count": 11,
     "metadata": {},
     "output_type": "execute_result"
    }
   ],
   "source": [
    "balanced_ids.shape"
   ]
  },
  {
   "cell_type": "code",
   "execution_count": 12,
   "metadata": {},
   "outputs": [],
   "source": [
    "ids = set(balanced_ids['client_id'])"
   ]
  },
  {
   "cell_type": "code",
   "execution_count": 13,
   "metadata": {},
   "outputs": [
    {
     "data": {
      "text/plain": [
       "['./data/mbd/mm/json/mbd_fold_4.jsonl',\n",
       " './data/mbd/mm/json/mbd_fold_0.jsonl',\n",
       " './data/mbd/mm/json/mbd_fold_1.jsonl',\n",
       " './data/mbd/mm/json/mbd_fold_2.jsonl',\n",
       " './data/mbd/mm/json/mbd_fold_3.jsonl']"
      ]
     },
     "execution_count": 13,
     "metadata": {},
     "output_type": "execute_result"
    }
   ],
   "source": [
    "json_files = glob('./data/mbd/mm/json/mbd_fold_*.jsonl', recursive=True)\n",
    "json_files  "
   ]
  },
  {
   "cell_type": "code",
   "execution_count": 14,
   "metadata": {},
   "outputs": [
    {
     "name": "stderr",
     "output_type": "stream",
     "text": [
      "196845it [00:08, 22827.66it/s]\n",
      "196938it [00:08, 23881.85it/s]\n",
      "196863it [00:08, 22722.70it/s]\n",
      "196942it [00:08, 22866.68it/s]\n",
      "196902it [00:08, 22722.53it/s]"
     ]
    },
    {
     "name": "stdout",
     "output_type": "stream",
     "text": [
      "69474\n"
     ]
    },
    {
     "name": "stderr",
     "output_type": "stream",
     "text": [
      "\n"
     ]
    }
   ],
   "source": [
    "import json\n",
    "from tqdm import tqdm\n",
    "\n",
    "json_data = []\n",
    "\n",
    "for json_file in json_files:\n",
    "    with open(json_file) as f:\n",
    "        for line in tqdm(f):\n",
    "            x = json.loads(line)\n",
    "            if x['client_id'] in ids:\n",
    "                json_data.append(x)\n",
    "        \n",
    "print(len(json_data))"
   ]
  },
  {
   "cell_type": "code",
   "execution_count": 15,
   "metadata": {},
   "outputs": [
    {
     "name": "stderr",
     "output_type": "stream",
     "text": [
      "100%|██████████| 69474/69474 [00:02<00:00, 26076.29it/s]\n"
     ]
    }
   ],
   "source": [
    "with open(f'/home/jovyan/maorlov/ggcht/data/mbd/mm/json_balanced_mm.jsonl', 'w') as outfile:\n",
    "    for entry in tqdm(json_data):\n",
    "        json.dump(entry, outfile)\n",
    "        outfile.write('\\n')"
   ]
  },
  {
   "cell_type": "code",
   "execution_count": null,
   "metadata": {},
   "outputs": [],
   "source": []
  }
 ],
 "metadata": {
  "kernelspec": {
   "display_name": "Python 3.8.2 (maorlov-tdl)",
   "language": "python",
   "name": "maorlov-tdl"
  },
  "language_info": {
   "codemirror_mode": {
    "name": "ipython",
    "version": 3
   },
   "file_extension": ".py",
   "mimetype": "text/x-python",
   "name": "python",
   "nbconvert_exporter": "python",
   "pygments_lexer": "ipython3",
   "version": "3.8.20"
  }
 },
 "nbformat": 4,
 "nbformat_minor": 4
}
