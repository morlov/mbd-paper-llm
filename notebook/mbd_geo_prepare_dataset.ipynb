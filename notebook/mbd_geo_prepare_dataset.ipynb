{
 "cells": [
  {
   "cell_type": "code",
   "execution_count": 1,
   "metadata": {},
   "outputs": [],
   "source": [
    "from huggingface_hub import notebook_login\n",
    "import gc\n",
    "from glob import glob\n",
    "import torch\n",
    "from datasets import load_dataset\n",
    "from tqdm import tqdm\n",
    "import pandas as pd\n",
    "import numpy as np"
   ]
  },
  {
   "cell_type": "code",
   "execution_count": 2,
   "metadata": {},
   "outputs": [],
   "source": [
    "%load_ext autoreload\n",
    "%autoreload 2"
   ]
  },
  {
   "cell_type": "markdown",
   "metadata": {},
   "source": [
    "# Prepare data"
   ]
  },
  {
   "cell_type": "code",
   "execution_count": 3,
   "metadata": {},
   "outputs": [],
   "source": [
    "from huggingface_hub import hf_hub_download\n",
    "\n",
    "# dataset = hf_hub_download(repo_id=\"ai-lab/MBD\", filename=\"ptls.tar.gz\", repo_type=\"dataset\", local_dir='../data/mbd')\n",
    "# dataset = hf_hub_download(repo_id=\"ai-lab/MBD\", filename=\"targets.tar.gz\", repo_type=\"dataset\", local_dir='../data/mbd')\n",
    "# !tar -xvzf ./data/mbd/ptls.tar.gz ./data/mbd\n",
    "# !tar -xvzf ./data/mbd/targets.tar.gz ./data/mbd"
   ]
  },
  {
   "cell_type": "markdown",
   "metadata": {},
   "source": [
    "# Geo to text"
   ]
  },
  {
   "cell_type": "code",
   "execution_count": 4,
   "metadata": {},
   "outputs": [],
   "source": [
    "from datetime import datetime\n",
    "\n",
    "MAX_LEN = 256\n",
    "GEO_COLUMNS = [\"client_id\", 'event_time', 'geohash_4', 'geohash_5', 'geohash_6']\n",
    "\n",
    "\n",
    "def geo_to_text(geo, columns=GEO_COLUMNS, max_len=MAX_LEN):\n",
    "    \n",
    "    client_id = geo['client_id']\n",
    "    del geo['client_id']\n",
    "    \n",
    "    for k in columns:\n",
    "        if k == \"event_time\":\n",
    "            geo[k] = list(map(lambda x: datetime.fromtimestamp(x).strftime('%Y-%m-%d'), geo[k]))\n",
    "                \n",
    "    df = pd.DataFrame(geo)\n",
    "    df = df.loc[(df.shift() != df).any(axis=1)].tail(MAX_LEN)\n",
    "    \n",
    "    return client_id, df.to_string(index=False)"
   ]
  },
  {
   "cell_type": "code",
   "execution_count": 20,
   "metadata": {},
   "outputs": [],
   "source": [
    "\n",
    "def get_geo_data(geo_path):\n",
    "    data_geo = pd.read_parquet(geo_path, columns=GEO_COLUMNS)\n",
    "    df_geo = pd.DataFrame(map(geo_to_text, tqdm(data_geo.to_dict(\"records\"))), columns=[\"client_id\", \"geo\"])\n",
    "    return df_geo.to_dict('records')"
   ]
  },
  {
   "cell_type": "markdown",
   "metadata": {},
   "source": [
    "# Write to json"
   ]
  },
  {
   "cell_type": "code",
   "execution_count": 21,
   "metadata": {},
   "outputs": [
    {
     "name": "stderr",
     "output_type": "stream",
     "text": [
      "100%|██████████| 145335/145335 [10:27<00:00, 231.70it/s]\n",
      "100%|██████████| 145335/145335 [00:06<00:00, 24129.77it/s]\n",
      "100%|██████████| 145411/145411 [10:42<00:00, 226.46it/s]\n",
      "100%|██████████| 145411/145411 [00:05<00:00, 25732.69it/s]\n",
      "100%|██████████| 145072/145072 [10:46<00:00, 224.38it/s]\n",
      "100%|██████████| 145072/145072 [00:06<00:00, 22679.88it/s]\n",
      "100%|██████████| 145530/145530 [10:49<00:00, 224.04it/s]\n",
      "100%|██████████| 145530/145530 [00:06<00:00, 22383.88it/s]\n",
      "100%|██████████| 145330/145330 [10:48<00:00, 224.12it/s]\n",
      "100%|██████████| 145330/145330 [00:06<00:00, 23143.71it/s]\n"
     ]
    },
    {
     "data": {
      "text/plain": [
       "726678"
      ]
     },
     "execution_count": 21,
     "metadata": {},
     "output_type": "execute_result"
    }
   ],
   "source": [
    "import json\n",
    "\n",
    "client_ids = []\n",
    "\n",
    "for fold in range(5):\n",
    "    \n",
    "    data = get_geo_data(f'../data/mbd/geo/fold={fold}/')\n",
    "    \n",
    "    with open(f'../data/mbd/geo/json/mbd_fold_{fold}.jsonl', 'w') as outfile:\n",
    "        for d in tqdm(data):\n",
    "            client_id, text = d['client_id'], d['geo']\n",
    "            entry = {'client_id': client_id, 'text': text}\n",
    "            json.dump(entry, outfile)\n",
    "            outfile.write('\\n')\n",
    "            client_ids.append(client_id)\n",
    "            \n",
    "len(set(client_ids))"
   ]
  },
  {
   "cell_type": "markdown",
   "metadata": {},
   "source": [
    "# Check number of tokens"
   ]
  },
  {
   "cell_type": "code",
   "execution_count": 23,
   "metadata": {},
   "outputs": [
    {
     "name": "stdout",
     "output_type": "stream",
     "text": [
      "mbd_fold_0.jsonl  mbd_fold_2.jsonl  mbd_fold_4.jsonl\n",
      "mbd_fold_1.jsonl  mbd_fold_3.jsonl\n"
     ]
    }
   ],
   "source": [
    "!ls ../data/mbd/geo/json/"
   ]
  },
  {
   "cell_type": "code",
   "execution_count": 32,
   "metadata": {},
   "outputs": [],
   "source": [
    "from transformers import LlamaTokenizer\n",
    "name = '/home_from_vm2/morlov/ggcht/small_models_run/gigar2-2b-450k-hf/'\n",
    "tokenizer = LlamaTokenizer.from_pretrained(name)"
   ]
  },
  {
   "cell_type": "code",
   "execution_count": 34,
   "metadata": {},
   "outputs": [
    {
     "name": "stderr",
     "output_type": "stream",
     "text": [
      "100%|██████████| 1000/1000 [00:09<00:00, 100.30it/s]\n"
     ]
    }
   ],
   "source": [
    "lens = []\n",
    "\n",
    "data = pd.read_json('../data/json_balanced_geo.jsonl', lines = True).head(1000).reset_index(drop=True)\n",
    "\n",
    "for d in tqdm(data.to_dict('records')):\n",
    "    client_id, text = d['client_id'], d['text']\n",
    "    tokenized = tokenizer(text, padding=\"max_length\", truncation=True)\n",
    "    lens.append([client_id, len(tokenized['input_ids'])])"
   ]
  },
  {
   "cell_type": "code",
   "execution_count": 35,
   "metadata": {},
   "outputs": [],
   "source": [
    "df_lens = pd.DataFrame(lens, columns=['client_ids', 'tokens'])"
   ]
  },
  {
   "cell_type": "code",
   "execution_count": 36,
   "metadata": {},
   "outputs": [
    {
     "data": {
      "text/html": [
       "<div>\n",
       "<style scoped>\n",
       "    .dataframe tbody tr th:only-of-type {\n",
       "        vertical-align: middle;\n",
       "    }\n",
       "\n",
       "    .dataframe tbody tr th {\n",
       "        vertical-align: top;\n",
       "    }\n",
       "\n",
       "    .dataframe thead th {\n",
       "        text-align: right;\n",
       "    }\n",
       "</style>\n",
       "<table border=\"1\" class=\"dataframe\">\n",
       "  <thead>\n",
       "    <tr style=\"text-align: right;\">\n",
       "      <th></th>\n",
       "      <th>client_ids</th>\n",
       "      <th>tokens</th>\n",
       "    </tr>\n",
       "  </thead>\n",
       "  <tbody>\n",
       "    <tr>\n",
       "      <th>0</th>\n",
       "      <td>102779fbfb73ecb44af2d73a1f2a936adfc01837162e7e...</td>\n",
       "      <td>5977</td>\n",
       "    </tr>\n",
       "    <tr>\n",
       "      <th>1</th>\n",
       "      <td>16402b565b79328b4e8071cac44e60e6d05044ace0fc4c...</td>\n",
       "      <td>5799</td>\n",
       "    </tr>\n",
       "    <tr>\n",
       "      <th>2</th>\n",
       "      <td>20098b632cdf1307820b9a155740a854b5609b62bc2478...</td>\n",
       "      <td>694</td>\n",
       "    </tr>\n",
       "    <tr>\n",
       "      <th>3</th>\n",
       "      <td>22c52cfd1e3079f6e47333a00d4a79cec53081389bc26a...</td>\n",
       "      <td>5596</td>\n",
       "    </tr>\n",
       "    <tr>\n",
       "      <th>4</th>\n",
       "      <td>23991a67bdefd64017fd2b2cdfdbf057972dc42c8c2455...</td>\n",
       "      <td>1508</td>\n",
       "    </tr>\n",
       "  </tbody>\n",
       "</table>\n",
       "</div>"
      ],
      "text/plain": [
       "                                          client_ids  tokens\n",
       "0  102779fbfb73ecb44af2d73a1f2a936adfc01837162e7e...    5977\n",
       "1  16402b565b79328b4e8071cac44e60e6d05044ace0fc4c...    5799\n",
       "2  20098b632cdf1307820b9a155740a854b5609b62bc2478...     694\n",
       "3  22c52cfd1e3079f6e47333a00d4a79cec53081389bc26a...    5596\n",
       "4  23991a67bdefd64017fd2b2cdfdbf057972dc42c8c2455...    1508"
      ]
     },
     "execution_count": 36,
     "metadata": {},
     "output_type": "execute_result"
    }
   ],
   "source": [
    "df_lens.head()"
   ]
  },
  {
   "cell_type": "code",
   "execution_count": 37,
   "metadata": {},
   "outputs": [
    {
     "data": {
      "text/plain": [
       "<Axes: >"
      ]
     },
     "execution_count": 37,
     "metadata": {},
     "output_type": "execute_result"
    },
    {
     "data": {
      "image/png": "[encoded data removed]",
      "text/plain": [
       "<Figure size 640x480 with 1 Axes>"
      ]
     },
     "metadata": {},
     "output_type": "display_data"
    }
   ],
   "source": [
    "df_lens['tokens'].hist(bins=100)"
   ]
  },
  {
   "cell_type": "code",
   "execution_count": 38,
   "metadata": {},
   "outputs": [
    {
     "data": {
      "text/plain": [
       "count    1000.00000\n",
       "mean     4751.74200\n",
       "std      2107.93585\n",
       "min        41.00000\n",
       "25%      3607.50000\n",
       "50%      5782.00000\n",
       "75%      6138.75000\n",
       "max      7168.00000\n",
       "Name: tokens, dtype: float64"
      ]
     },
     "execution_count": 38,
     "metadata": {},
     "output_type": "execute_result"
    }
   ],
   "source": [
    "df_lens['tokens'].describe()"
   ]
  },
  {
   "cell_type": "code",
   "execution_count": 43,
   "metadata": {},
   "outputs": [
    {
     "name": "stdout",
     "output_type": "stream",
     "text": [
      "event_time  geohash_4  geohash_5  geohash_6\n",
      "2022-07-14         43        106       1905\n",
      "2022-07-17         43        106       8502\n",
      "2022-07-17         43        106       2692\n",
      "2022-07-18         43        106       4838\n",
      "2022-07-18         43        180       1969\n",
      "2022-07-18         43        106       2616\n",
      "2022-07-19         43        106       2616\n",
      "2022-07-19         43        106       5773\n",
      "2022-07-19         43        106       2616\n",
      "2022-07-19         43        106       2692\n",
      "2022-07-20         43        180       1481\n",
      "2022-07-20         43        106       2616\n",
      "2022-07-20         43        180       4067\n",
      "2022-07-21         43        106       8502\n",
      "2022-07-21         43        180       2015\n",
      "2022-07-22         43        106       2616\n",
      "2022-07-22         43      10001      10001\n",
      "2022-07-22         43        106       2616\n",
      "2022-07-23         43        106       8502\n",
      "2022-07-23         43        106       2616\n",
      "2022-07-24         43        106       4838\n",
      "2022-07-26         43        106       2616\n",
      "2022-07-26         43        106       8502\n",
      "2022-07-26         43        106       4838\n",
      "2022-07-27         43        106       2616\n",
      "2022-07-27         43        106       8502\n",
      "2022-07-27         43        180       2015\n",
      "2022-07-28         43        106       8502\n",
      "2022-07-28         43        180       2015\n",
      "2022-07-29         43        106       8502\n",
      "2022-07-30         43        106       8502\n",
      "2022-07-30         43      10001      10001\n",
      "2022-07-31         43        106       8502\n",
      "2022-08-01         43        106       2616\n",
      "2022-08-02         43        106       8502\n",
      "2022-08-03         43        180       2015\n",
      "2022-08-03         43        106       8502\n",
      "2022-08-04         43        894      10001\n",
      "2022-08-05         43        106       2616\n",
      "2022-08-05         43        180       4067\n",
      "2022-08-05         43        180       7853\n",
      "2022-08-06         43        106       2616\n",
      "2022-08-07         43        106       2616\n",
      "2022-08-07         43        106       4838\n",
      "2022-08-07         43        106       8502\n",
      "2022-08-08         43        106       2616\n",
      "2022-08-08         43        894      10001\n",
      "2022-08-08         43        180       1481\n",
      "2022-08-08         43        106       1905\n",
      "2022-08-08         43        106       2616\n",
      "2022-08-09         43        106       4838\n",
      "2022-08-09         43        180       2015\n",
      "2022-08-09         43        106       8502\n",
      "2022-08-10         43        106       8502\n",
      "2022-08-10         43        106       4838\n",
      "2022-08-10         43        180       2015\n",
      "2022-08-10         43        106       4838\n",
      "2022-08-11         43        180       2015\n",
      "2022-08-11         43        106       2616\n",
      "2022-08-12         43        106       8502\n",
      "2022-08-13         43        106       2616\n",
      "2022-08-13         43        180       1481\n",
      "2022-08-14         43        106       4838\n",
      "2022-08-14         43        106       2616\n",
      "2022-08-14         43        106       4838\n",
      "2022-08-15         43        106       8502\n",
      "2022-08-15         43        106       2616\n",
      "2022-08-16         43        106       2031\n",
      "2022-08-17         43        106       2616\n",
      "2022-08-19         43        106       8502\n",
      "2022-08-19         43        106       4838\n",
      "2022-08-20         43        106       8502\n",
      "2022-08-20         43        106       2616\n",
      "2022-08-21         43        106       2616\n",
      "2022-08-21         43        894      10001\n",
      "2022-08-22         43        106       4838\n",
      "2022-08-23         43        106       8502\n",
      "2022-08-23         43        106       4838\n",
      "2022-08-23         43        106       2616\n",
      "2022-08-25         43        894      10001\n",
      "2022-08-26         43        180       2015\n",
      "2022-08-28         43        894      10001\n",
      "2022-08-28         43        180       2015\n",
      "2022-08-28         43        106       8502\n",
      "2022-08-28         43        106       2616\n",
      "2022-08-29         43        106       4838\n",
      "2022-08-31         43        106       8502\n",
      "2022-08-31        372       5299      10001\n",
      "2022-08-31         43        106       2616\n",
      "2022-09-01         43        894      10001\n",
      "2022-09-02         43        106       2616\n",
      "2022-09-03         43        106       8502\n",
      "2022-09-03         43        106       5773\n",
      "2022-09-04         43        106       4838\n",
      "2022-09-04         43        106       8502\n",
      "2022-09-04         43        180       2015\n",
      "2022-09-05         43        106       8502\n",
      "2022-09-05         43        894      10001\n",
      "2022-09-06         43        106       8502\n",
      "2022-09-07        372       5299      10001\n",
      "2022-09-07         43        106       8502\n",
      "2022-09-09         43        106       4838\n",
      "2022-09-10         43        106       8502\n",
      "2022-09-11         43        106       8502\n",
      "2022-09-12         43        106       2616\n",
      "2022-09-13        372       5299      10001\n",
      "2022-09-13         43        106       1542\n",
      "2022-09-14         43        106       4838\n",
      "2022-09-14         43        106       2616\n",
      "2022-09-14         43        106        844\n",
      "2022-09-14         43        106       2616\n",
      "2022-09-15         43        106       8502\n",
      "2022-09-16         43        106       8502\n",
      "2022-09-17         43        106       2616\n",
      "2022-09-17         43        106       8502\n",
      "2022-09-18         43        106       8502\n",
      "2022-09-19         43        106       8502\n",
      "2022-09-19         43        106       4838\n",
      "2022-09-19         43        106       8502\n",
      "2022-09-19         43        106       2616\n",
      "2022-09-19         43        106        844\n",
      "2022-09-21         43        344       7077\n",
      "2022-09-22         43        180       2015\n",
      "2022-09-22         43        106       8502\n",
      "2022-09-22        372       5299      10001\n",
      "2022-09-22         43        106        844\n",
      "2022-09-23         43        106       2169\n",
      "2022-09-23        372      10001      10001\n",
      "2022-09-24         43        106       2616\n",
      "2022-09-24         43        106       8502\n",
      "2022-09-24         43        106       1542\n",
      "2022-09-24         43        106       2616\n",
      "2022-09-25         43        106       8502\n",
      "2022-09-27         43        106       8502\n",
      "2022-09-28         43        106       1542\n",
      "2022-09-28         43        106       2616\n",
      "2022-09-29         43        106       8502\n",
      "2022-09-30         43        180       1481\n",
      "2022-10-02         43        180       2015\n",
      "2022-10-02         43        106       2616\n",
      "2022-10-03         43        106       8502\n",
      "2022-10-03         43        106       2616\n",
      "2022-10-04         43        106       8502\n",
      "2022-10-04         43        106        844\n",
      "2022-10-05         43        106       2616\n",
      "2022-10-05        372       5299      10001\n",
      "2022-10-06         43        894       7722\n",
      "2022-10-06         43        106       8502\n",
      "2022-10-07         43        106       8502\n",
      "2022-10-07         43        106       2616\n",
      "2022-10-09         43       1794      10001\n",
      "2022-10-09         43        180       2015\n",
      "2022-10-09         43        106       2616\n",
      "2022-10-10         43        106       8502\n",
      "2022-10-10         43        344       7077\n",
      "2022-10-10         43        106       2616\n",
      "2022-10-11         43        106       2616\n",
      "2022-10-11         43        106       4838\n",
      "2022-10-12         43        106       2616\n",
      "2022-10-13         43        106       4838\n",
      "2022-10-14         43        106       2616\n",
      "2022-10-15         43       1794      10001\n",
      "2022-10-15         43        106       2134\n",
      "2022-10-16         43        106       2616\n",
      "2022-10-17         43        106       2616\n",
      "2022-10-18         43        106       8502\n",
      "2022-10-18         43        106       2616\n",
      "2022-10-19         43       1794      10001\n",
      "2022-10-20         43        106       4838\n",
      "2022-10-21         43       1081       6013\n",
      "2022-10-21         43        106       2616\n",
      "2022-10-22         43        106       2134\n",
      "2022-10-23         43       1081       6013\n",
      "2022-10-23         43        106       8502\n",
      "2022-10-23         43       1081       6013\n",
      "2022-10-24         43       1794      10001\n",
      "2022-10-24         43        106       4838\n",
      "2022-10-24         43       1794      10001\n",
      "2022-10-24         43        106       8502\n",
      "2022-10-25         43       1794      10001\n",
      "2022-10-25         43        106       4838\n",
      "2022-10-28         43        106       2616\n",
      "2022-10-28         43        180       1481\n",
      "2022-10-28         43        106       2616\n",
      "2022-10-29         43        180       1481\n",
      "2022-10-29         43       1081       6013\n",
      "2022-10-30         43        106       2134\n",
      "2022-10-30         43        106       2616\n",
      "2022-10-31         43        106       2616\n",
      "2022-11-01         43       1081       6013\n",
      "2022-11-01         43        106       4838\n",
      "2022-11-01         43       1794      10001\n",
      "2022-11-01         43        106       2616\n",
      "2022-11-03         43       1794      10001\n",
      "2022-11-03         43        106       2616\n",
      "2022-11-04         43        106       2616\n",
      "2022-11-05         43       1081       6013\n",
      "2022-11-07         43        106       2616\n",
      "2022-11-08         43       1794      10001\n",
      "2022-11-08         43        106       2616\n",
      "2022-11-09         43        106       2134\n",
      "2022-11-09         43        106       4838\n",
      "2022-11-10         43       1081       6013\n",
      "2022-11-10         43        106       1542\n",
      "2022-11-10         43        106       2134\n",
      "2022-11-10         43        106       8502\n",
      "2022-11-10         43        106       2616\n",
      "2022-11-10         43       1081       6013\n",
      "2022-11-11         43        106       2134\n",
      "2022-11-12         43        106       8502\n",
      "2022-11-12         43        106       2616\n",
      "2022-11-14         43        106       2616\n",
      "2022-11-15         43        106       2616\n",
      "2022-11-15         43        106       1542\n",
      "2022-11-17         43        106       2616\n",
      "2022-11-19         43        106       2616\n",
      "2022-11-20         43        106       2616\n",
      "2022-11-21         43        106       2616\n",
      "2022-11-24         43        106       2616\n",
      "2022-11-26         43        106       1542\n",
      "2022-11-26         43        106       2616\n",
      "2022-11-27         43        106       1542\n",
      "2022-11-27         43        106       2616\n",
      "2022-11-29         43        106       2616\n",
      "2022-12-02         43        106       2616\n",
      "2022-12-04         43        106       1542\n",
      "2022-12-04         43       1081       6013\n",
      "2022-12-05         43        106       1542\n",
      "2022-12-05         43        106       4838\n",
      "2022-12-05         43        894       7722\n",
      "2022-12-06         43        106       8502\n",
      "2022-12-06         43        106       4838\n",
      "2022-12-06         43        106       2616\n",
      "2022-12-07         43       1794      10001\n",
      "2022-12-07         43        106       4838\n",
      "2022-12-12         43        106       1542\n",
      "2022-12-12         43        106       2616\n",
      "2022-12-12         43       1081       6013\n",
      "2022-12-13         43        106       4838\n",
      "2022-12-13         43        106       1542\n",
      "2022-12-13         43       1794      10001\n",
      "2022-12-15         43        106       2616\n",
      "2022-12-17         43        106       2616\n",
      "2022-12-18         43        106       8502\n",
      "2022-12-19         43       1794      10001\n",
      "2022-12-19         43        106       4838\n",
      "2022-12-21         43        106       2616\n",
      "2022-12-21         43        106       4838\n",
      "2022-12-23         43        106       2616\n",
      "2022-12-26         43       1794      10001\n",
      "2022-12-27         43        106       4838\n",
      "2022-12-28         43        106       8502\n",
      "2022-12-30         43        106       2616\n",
      "2022-12-30         43      10001      10001\n",
      "2022-12-30         43        106       4838\n",
      "2022-12-30         43        106       8502\n"
     ]
    }
   ],
   "source": [
    "print(data['text'][0])"
   ]
  },
  {
   "cell_type": "markdown",
   "metadata": {},
   "source": [
    "# Balanced dataset"
   ]
  },
  {
   "cell_type": "code",
   "execution_count": 24,
   "metadata": {},
   "outputs": [],
   "source": [
    "import pandas as pd\n",
    "balanced_ids = pd.read_parquet('../data/mbd_targets_balanced.parquet', columns=['client_id'])"
   ]
  },
  {
   "cell_type": "code",
   "execution_count": 25,
   "metadata": {},
   "outputs": [
    {
     "data": {
      "text/plain": [
       "(70532, 1)"
      ]
     },
     "execution_count": 25,
     "metadata": {},
     "output_type": "execute_result"
    }
   ],
   "source": [
    "balanced_ids.shape"
   ]
  },
  {
   "cell_type": "code",
   "execution_count": 26,
   "metadata": {},
   "outputs": [],
   "source": [
    "ids = set(balanced_ids['client_id'])"
   ]
  },
  {
   "cell_type": "code",
   "execution_count": 27,
   "metadata": {},
   "outputs": [
    {
     "data": {
      "text/plain": [
       "['../data/mbd/geo/json/mbd_fold_4.jsonl',\n",
       " '../data/mbd/geo/json/mbd_fold_1.jsonl',\n",
       " '../data/mbd/geo/json/mbd_fold_2.jsonl',\n",
       " '../data/mbd/geo/json/mbd_fold_3.jsonl',\n",
       " '../data/mbd/geo/json/mbd_fold_0.jsonl']"
      ]
     },
     "execution_count": 27,
     "metadata": {},
     "output_type": "execute_result"
    }
   ],
   "source": [
    "json_files = glob('../data/mbd/geo/json/mbd_fold_*.jsonl', recursive=True)\n",
    "json_files  "
   ]
  },
  {
   "cell_type": "code",
   "execution_count": 28,
   "metadata": {},
   "outputs": [
    {
     "name": "stderr",
     "output_type": "stream",
     "text": [
      "145330it [00:03, 42408.80it/s]\n",
      "145411it [00:03, 41849.64it/s]\n",
      "145072it [00:03, 41898.97it/s]\n",
      "145530it [00:03, 41612.95it/s]\n",
      "145335it [00:03, 41289.93it/s]"
     ]
    },
    {
     "name": "stdout",
     "output_type": "stream",
     "text": [
      "51761\n"
     ]
    },
    {
     "name": "stderr",
     "output_type": "stream",
     "text": [
      "\n"
     ]
    }
   ],
   "source": [
    "import json\n",
    "from tqdm import tqdm\n",
    "\n",
    "json_data = []\n",
    "\n",
    "for json_file in json_files:\n",
    "    with open(json_file) as f:\n",
    "        for line in tqdm(f):\n",
    "            x = json.loads(line)\n",
    "            if x['client_id'] in ids:\n",
    "                json_data.append(x)\n",
    "        \n",
    "print(len(json_data))"
   ]
  },
  {
   "cell_type": "code",
   "execution_count": 29,
   "metadata": {},
   "outputs": [
    {
     "name": "stderr",
     "output_type": "stream",
     "text": [
      "100%|██████████| 51761/51761 [00:02<00:00, 25290.74it/s]\n"
     ]
    }
   ],
   "source": [
    "with open(f'../data/mbd/json_balanced_geo.jsonl', 'w') as outfile:\n",
    "    for entry in tqdm(json_data):\n",
    "        json.dump(entry, outfile)\n",
    "        outfile.write('\\n')"
   ]
  }
 ],
 "metadata": {
  "interpreter": {
   "hash": "f09f7331661be2a6d107cce5287a95496fe2c45a76fad3209e345a7b2d13a48b"
  },
  "kernelspec": {
   "display_name": "Python 3.8.2 (maorlov-tdl)",
   "language": "python",
   "name": "python3"
  },
  "language_info": {
   "codemirror_mode": {
    "name": "ipython",
    "version": 3
   },
   "file_extension": ".py",
   "mimetype": "text/x-python",
   "name": "python",
   "nbconvert_exporter": "python",
   "pygments_lexer": "ipython3",
   "version": "3.9.21"
  }
 },
 "nbformat": 4,
 "nbformat_minor": 4
}
